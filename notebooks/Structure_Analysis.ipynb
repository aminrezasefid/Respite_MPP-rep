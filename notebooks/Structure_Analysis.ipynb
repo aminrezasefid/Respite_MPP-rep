{
 "cells": [
  {
   "cell_type": "markdown",
   "id": "53677488",
   "metadata": {},
   "source": [
    "This notebook is used to analyze the molecular structures of the collected datasets.<br> "
   ]
  },
  {
   "cell_type": "code",
   "execution_count": 1,
   "id": "b5d07235",
   "metadata": {},
   "outputs": [],
   "source": [
    "import pandas as pd\n",
    "\n",
    "from functools import partial\n",
    "from collections import Counter\n",
    "\n",
    "from rdkit import Chem\n",
    "from rdkit.Chem import AllChem\n",
    "from rdkit.Chem import MACCSkeys\n",
    "from rdkit.Chem.AllChem import GetMorganFingerprintAsBitVect as Morgan\n",
    "\n",
    "from rdkit.Chem.Scaffolds import MurckoScaffold\n",
    "from rdkit.Chem import Descriptors\n",
    "from rdkit.Chem import rdMolDescriptors\n",
    "import rdkit.Chem.Fragments as Fragments"
   ]
  },
  {
   "cell_type": "code",
   "execution_count": 2,
   "id": "152fd2b8",
   "metadata": {},
   "outputs": [],
   "source": [
    "import warnings\n",
    "warnings.filterwarnings('ignore')"
   ]
  },
  {
   "cell_type": "markdown",
   "id": "c3d66a6e",
   "metadata": {},
   "source": [
    "-  some functions from MOSES (https://github.com/molecularsets/moses)"
   ]
  },
  {
   "cell_type": "code",
   "execution_count": 3,
   "id": "37165fd1",
   "metadata": {},
   "outputs": [],
   "source": [
    "def get_mol(smiles_or_mol):\n",
    "    '''\n",
    "    Loads SMILES/molecule into RDKit's object\n",
    "    '''\n",
    "    if isinstance(smiles_or_mol, str):\n",
    "        if len(smiles_or_mol) == 0:\n",
    "            return None\n",
    "        mol = Chem.MolFromSmiles(smiles_or_mol)\n",
    "        if mol is None:\n",
    "            return None\n",
    "        try:\n",
    "            Chem.SanitizeMol(mol)\n",
    "        except ValueError:\n",
    "            return None\n",
    "        return mol\n",
    "    return smiles_or_mol"
   ]
  },
  {
   "cell_type": "code",
   "execution_count": 4,
   "id": "6f33e682",
   "metadata": {},
   "outputs": [],
   "source": [
    "def mapper(n_jobs):\n",
    "    '''\n",
    "    Returns function for map call.\n",
    "    If n_jobs == 1, will use standard map\n",
    "    If n_jobs > 1, will use multiprocessing pool\n",
    "    If n_jobs is a pool object, will return its map function\n",
    "    '''\n",
    "    if n_jobs == 1:\n",
    "        def _mapper(*args, **kwargs):\n",
    "            return list(map(*args, **kwargs))\n",
    "\n",
    "        return _mapper\n",
    "    if isinstance(n_jobs, int):\n",
    "        pool = Pool(n_jobs)\n",
    "\n",
    "        def _mapper(*args, **kwargs):\n",
    "            try:\n",
    "                result = pool.map(*args, **kwargs)\n",
    "            finally:\n",
    "                pool.terminate()\n",
    "            return result\n",
    "\n",
    "        return _mapper\n",
    "    return n_jobs.map"
   ]
  },
  {
   "cell_type": "code",
   "execution_count": 5,
   "id": "a078a4d0",
   "metadata": {},
   "outputs": [],
   "source": [
    "def compute_scaffold(mol, min_rings=1):\n",
    "    mol = get_mol(mol)\n",
    "    try:\n",
    "        scaffold = MurckoScaffold.GetScaffoldForMol(mol)\n",
    "    except (ValueError, RuntimeError):\n",
    "        return None\n",
    "    n_rings = get_n_rings(scaffold)\n",
    "    scaffold_smiles = Chem.MolToSmiles(scaffold)\n",
    "    if scaffold_smiles == '' or n_rings < min_rings:\n",
    "        return None\n",
    "    return scaffold_smiles"
   ]
  },
  {
   "cell_type": "code",
   "execution_count": 6,
   "id": "5ade6193",
   "metadata": {},
   "outputs": [],
   "source": [
    "def compute_scaffolds(mol_list, n_jobs=1, min_rings=1):\n",
    "    \"\"\"\n",
    "    Extracts a scafold from a molecule in a form of a canonic SMILES\n",
    "    \"\"\"\n",
    "    scaffolds = Counter()\n",
    "    map_ = mapper(n_jobs)\n",
    "    scaffolds = Counter(\n",
    "        map_(partial(compute_scaffold, min_rings=min_rings), mol_list))\n",
    "    if None in scaffolds:\n",
    "        scaffolds.pop(None)\n",
    "    return scaffolds"
   ]
  },
  {
   "cell_type": "markdown",
   "id": "0357770b",
   "metadata": {},
   "source": [
    "-  some other functions to extract the strutural traits"
   ]
  },
  {
   "cell_type": "code",
   "execution_count": 7,
   "id": "f84d96b7",
   "metadata": {},
   "outputs": [],
   "source": [
    "def get_weight(mol):\n",
    "    \"\"\"\n",
    "    Computes molecular weight for given molecule.\n",
    "    Returns float,\n",
    "    \"\"\"\n",
    "    return Descriptors.MolWt(mol)"
   ]
  },
  {
   "cell_type": "code",
   "execution_count": 8,
   "id": "34478abb",
   "metadata": {},
   "outputs": [],
   "source": [
    "def get_n_rings(mol):\n",
    "    \"\"\"\n",
    "    Computes the number of rings in a molecule\n",
    "    \"\"\"\n",
    "    return mol.GetRingInfo().NumRings()"
   ]
  },
  {
   "cell_type": "code",
   "execution_count": 9,
   "id": "e734a9da",
   "metadata": {},
   "outputs": [],
   "source": [
    "def get_scaffold(mol):\n",
    "    mol = get_mol(mol)\n",
    "    scaffold = MurckoScaffold.GetScaffoldForMol(mol)\n",
    "    scaffold_smiles = Chem.MolToSmiles(scaffold)\n",
    "    return scaffold_smiles"
   ]
  },
  {
   "cell_type": "code",
   "execution_count": 10,
   "id": "2af074b7",
   "metadata": {},
   "outputs": [],
   "source": [
    "def get_n_atoms(mol):\n",
    "    \"\"\"\n",
    "    Computes the number of atoms in a molecule\n",
    "    \"\"\"\n",
    "    return rdMolDescriptors.CalcNumAtoms(mol)"
   ]
  },
  {
   "cell_type": "code",
   "execution_count": 11,
   "id": "05ac0f28",
   "metadata": {},
   "outputs": [],
   "source": [
    "def get_n_heavy_atoms(mol):\n",
    "    \"\"\"\n",
    "    Computes the number of heavy atoms in a molecule\n",
    "    \"\"\"\n",
    "    return rdMolDescriptors.CalcNumHeavyAtoms(mol)"
   ]
  },
  {
   "cell_type": "code",
   "execution_count": 12,
   "id": "22e75d90",
   "metadata": {},
   "outputs": [],
   "source": [
    "def get_n_hetero_atoms(mol):\n",
    "    \"\"\"\n",
    "    Computes the number of hetero atoms in a molecule\n",
    "    \"\"\"\n",
    "    return rdMolDescriptors.CalcNumHeteroatoms(mol)"
   ]
  },
  {
   "cell_type": "code",
   "execution_count": 13,
   "id": "a866f942",
   "metadata": {},
   "outputs": [],
   "source": [
    "def get_f_sp3C(mol):\n",
    "    \"\"\"\n",
    "    Computes the fraction of sp3 carbon in a molecule\n",
    "    \"\"\"\n",
    "    return rdMolDescriptors.CalcFractionCSP3(mol)"
   ]
  },
  {
   "cell_type": "code",
   "execution_count": 14,
   "id": "b268e6c9",
   "metadata": {},
   "outputs": [],
   "source": [
    "def get_n_aroma_rings(mol):\n",
    "    \"\"\"\n",
    "    Computes the number of aromatic rings in a molecule\n",
    "    \"\"\"\n",
    "    return rdMolDescriptors.CalcNumAromaticRings(mol)"
   ]
  },
  {
   "cell_type": "code",
   "execution_count": 15,
   "id": "79030428",
   "metadata": {},
   "outputs": [],
   "source": [
    "def get_n_alipha_rings(mol):\n",
    "    \"\"\"\n",
    "    Computes the number of aliphatic rings in a molecule\n",
    "    \"\"\"\n",
    "    return rdMolDescriptors.CalcNumAliphaticRings(mol)"
   ]
  },
  {
   "cell_type": "code",
   "execution_count": 16,
   "id": "146529eb",
   "metadata": {},
   "outputs": [],
   "source": [
    "def get_n_hba(mol):\n",
    "    \"\"\"\n",
    "    Computes the number of h-bond acceptors in a molecule\n",
    "    \"\"\"\n",
    "    return rdMolDescriptors.CalcNumHBA(mol)"
   ]
  },
  {
   "cell_type": "code",
   "execution_count": 17,
   "id": "ed117581",
   "metadata": {},
   "outputs": [],
   "source": [
    "def get_n_hbd(mol):\n",
    "    \"\"\"\n",
    "    Computes the number of h-bond donors in a molecule\n",
    "    \"\"\"\n",
    "    return rdMolDescriptors.CalcNumHBD(mol)"
   ]
  },
  {
   "cell_type": "code",
   "execution_count": 18,
   "id": "f712c62f",
   "metadata": {},
   "outputs": [],
   "source": [
    "def get_n_rota_bonds(mol):\n",
    "    \"\"\"\n",
    "    Computes the number of rotatable bonds in a molecule\n",
    "    \"\"\"\n",
    "    return rdMolDescriptors.CalcNumRotatableBonds(mol)"
   ]
  },
  {
   "cell_type": "code",
   "execution_count": 19,
   "id": "7a4f64a4",
   "metadata": {},
   "outputs": [],
   "source": [
    "def get_n_stereo_centers(mol):\n",
    "    \"\"\"\n",
    "    Computes the number of stereo centers in a molecule\n",
    "    \"\"\"\n",
    "    try:\n",
    "        return rdMolDescriptors.CalcNumAtomStereoCenters(mol)\n",
    "    except ValueError:\n",
    "        return 0"
   ]
  },
  {
   "cell_type": "code",
   "execution_count": 20,
   "id": "5d350d32",
   "metadata": {},
   "outputs": [],
   "source": [
    "def get_n_hetero_rings(mol):\n",
    "    \"\"\"\n",
    "    Computes the number of heterocycles in a molecule\n",
    "    \"\"\"\n",
    "    return rdMolDescriptors.CalcNumHeterocycles(mol)"
   ]
  },
  {
   "cell_type": "code",
   "execution_count": 21,
   "id": "4029e4bb",
   "metadata": {},
   "outputs": [],
   "source": [
    "  def get_n_spiro_atoms(mol):\n",
    "    \"\"\"\n",
    "    Computes the number of heterocycles in a molecule\n",
    "    \"\"\"\n",
    "    return rdMolDescriptors.CalcNumSpiroAtoms(mol)"
   ]
  },
  {
   "cell_type": "markdown",
   "id": "8f085dba",
   "metadata": {},
   "source": [
    "# Calculate scaffold frequency"
   ]
  },
  {
   "cell_type": "markdown",
   "id": "223978cc",
   "metadata": {},
   "source": [
    "-  Bemis-Murcko scaffolds with # minimum ring set as 1 (https://pubs.acs.org/doi/10.1021/jm9602928)"
   ]
  },
  {
   "cell_type": "code",
   "execution_count": 22,
   "id": "0605f323",
   "metadata": {},
   "outputs": [
    {
     "name": "stdout",
     "output_type": "stream",
     "text": [
      "df.shape (3326, 2)\n",
      "(1660, 3)\n"
     ]
    }
   ],
   "source": [
    "#opioids: MDR1, CYP2D6, CYP3A4 | MOR, DOR, KOR\n",
    "#benchmark: BACE, BBBP, HIV | ESOL, FreeSolv, Lipop\n",
    "folder = 'opioids'\n",
    "mol_prop = 'KOR' \n",
    "task_setting = 'reg'# benchmark: benchmark; opioids: reg\n",
    "\n",
    "#read the csv file\n",
    "df = pd.read_csv('../data/{folder}/{name}_{task}.csv'.format(folder=folder, name=mol_prop, task=task_setting))\n",
    "print(\"df.shape\", df.shape)\n",
    "\n",
    "#get the Bemis-Murcko scaffolds dict from the dataset\n",
    "scaffolds_dict = dict(compute_scaffolds(list(df['SMILES'])))\n",
    "\n",
    "#convert the scaffolds dict to a df\n",
    "scaffolds_df = pd.DataFrame.from_dict(scaffolds_dict, orient='index')\n",
    "scaffolds_df.reset_index(inplace=True)\n",
    "scaffolds_df.columns = ['SMILES', 'freq']\n",
    "\n",
    "# sort the scaffolds by frequency in descending order and add rank\n",
    "scaffolds_df = scaffolds_df.sort_values(by=\"freq\", ascending=False).reset_index(drop=True)\n",
    "scaffolds_df['rank'] = scaffolds_df.index + 1\n",
    "print(scaffolds_df.shape)"
   ]
  },
  {
   "cell_type": "code",
   "execution_count": 23,
   "id": "ecc921af",
   "metadata": {},
   "outputs": [
    {
     "data": {
      "text/html": [
       "<div>\n",
       "<style scoped>\n",
       "    .dataframe tbody tr th:only-of-type {\n",
       "        vertical-align: middle;\n",
       "    }\n",
       "\n",
       "    .dataframe tbody tr th {\n",
       "        vertical-align: top;\n",
       "    }\n",
       "\n",
       "    .dataframe thead th {\n",
       "        text-align: right;\n",
       "    }\n",
       "</style>\n",
       "<table border=\"1\" class=\"dataframe\">\n",
       "  <thead>\n",
       "    <tr style=\"text-align: right;\">\n",
       "      <th></th>\n",
       "      <th>SMILES</th>\n",
       "      <th>freq</th>\n",
       "      <th>rank</th>\n",
       "    </tr>\n",
       "  </thead>\n",
       "  <tbody>\n",
       "    <tr>\n",
       "      <th>0</th>\n",
       "      <td>c1ccc(C2CCN(C(c3ccccc3)c3ccccc3)CC2)cc1</td>\n",
       "      <td>59</td>\n",
       "      <td>1</td>\n",
       "    </tr>\n",
       "    <tr>\n",
       "      <th>1</th>\n",
       "      <td>O=C1CCCC2CC[C@H]3C(=O)O[C@H](c4ccoc4)CC3[C@@H]12</td>\n",
       "      <td>47</td>\n",
       "      <td>2</td>\n",
       "    </tr>\n",
       "    <tr>\n",
       "      <th>2</th>\n",
       "      <td>O=c1cnc2ccccc2n1C1CCN(C2CCCCCCC2)CC1</td>\n",
       "      <td>34</td>\n",
       "      <td>3</td>\n",
       "    </tr>\n",
       "    <tr>\n",
       "      <th>3</th>\n",
       "      <td>c1cc2c3c(c1)O[C@H]1C4CCC5(CC4)[C@@H](C2)N(CC2C...</td>\n",
       "      <td>34</td>\n",
       "      <td>4</td>\n",
       "    </tr>\n",
       "    <tr>\n",
       "      <th>4</th>\n",
       "      <td>O=c1c(-c2ccccc2)cccn1C(CN1CCCC1)c1ccccc1</td>\n",
       "      <td>33</td>\n",
       "      <td>5</td>\n",
       "    </tr>\n",
       "  </tbody>\n",
       "</table>\n",
       "</div>"
      ],
      "text/plain": [
       "                                              SMILES  freq  rank\n",
       "0            c1ccc(C2CCN(C(c3ccccc3)c3ccccc3)CC2)cc1    59     1\n",
       "1   O=C1CCCC2CC[C@H]3C(=O)O[C@H](c4ccoc4)CC3[C@@H]12    47     2\n",
       "2               O=c1cnc2ccccc2n1C1CCN(C2CCCCCCC2)CC1    34     3\n",
       "3  c1cc2c3c(c1)O[C@H]1C4CCC5(CC4)[C@@H](C2)N(CC2C...    34     4\n",
       "4           O=c1c(-c2ccccc2)cccn1C(CN1CCCC1)c1ccccc1    33     5"
      ]
     },
     "execution_count": 23,
     "metadata": {},
     "output_type": "execute_result"
    }
   ],
   "source": [
    "scaffolds_df.head()"
   ]
  },
  {
   "cell_type": "code",
   "execution_count": 24,
   "id": "ea59bbcd",
   "metadata": {},
   "outputs": [],
   "source": [
    "# save the scaffolds_df.csv \n",
    "scaffolds_df.to_csv('../results/structures/{folder}/{mol_prop}_scaffolds_freq.csv'.format(folder=folder, mol_prop=mol_prop), index=False)"
   ]
  },
  {
   "cell_type": "markdown",
   "id": "459d33cc",
   "metadata": {},
   "source": [
    "# Extract structural traits "
   ]
  },
  {
   "cell_type": "markdown",
   "id": "c3fffe78",
   "metadata": {},
   "source": [
    "-  for each molecule in the dataset, we extract the following structural traits: <br> \n",
    "BM-scaffolds, fragments & other structural traits (e.g. MW, n_rings)"
   ]
  },
  {
   "cell_type": "code",
   "execution_count": 25,
   "id": "34d4e96f",
   "metadata": {},
   "outputs": [],
   "source": [
    "# fragments are taken from rdkit.Chem.Fragments module\n",
    "RDKit_fragments = ['fr_Al_COO', 'fr_Al_OH', 'fr_Al_OH_noTert', 'fr_ArN', 'fr_Ar_COO', 'fr_Ar_N', 'fr_Ar_NH', 'fr_Ar_OH',\n",
    "'fr_COO', 'fr_COO2', 'fr_C_O', 'fr_C_O_noCOO', 'fr_C_S', 'fr_HOCCN', 'fr_Imine', 'fr_NH0', 'fr_NH1', 'fr_NH2', 'fr_N_O',\n",
    "'fr_Ndealkylation1', 'fr_Ndealkylation2', 'fr_Nhpyrrole', 'fr_SH', 'fr_aldehyde', 'fr_alkyl_carbamate', 'fr_alkyl_halide',\n",
    "'fr_allylic_oxid', 'fr_amide', 'fr_amidine', 'fr_aniline', 'fr_aryl_methyl', 'fr_azide', 'fr_azo', 'fr_barbitur',\n",
    "'fr_benzene', 'fr_benzodiazepine', 'fr_bicyclic', 'fr_diazo', 'fr_dihydropyridine', 'fr_epoxide', 'fr_ester', 'fr_ether',\n",
    "'fr_furan', 'fr_guanido', 'fr_halogen', 'fr_hdrzine', 'fr_hdrzone', 'fr_imidazole', 'fr_imide', 'fr_isocyan', 'fr_isothiocyan',\n",
    "'fr_ketone', 'fr_ketone_Topliss', 'fr_lactam', 'fr_lactone', 'fr_methoxy', 'fr_morpholine', 'fr_nitrile', 'fr_nitro',\n",
    "'fr_nitro_arom', 'fr_nitro_arom_nonortho', 'fr_nitroso', 'fr_oxazole', 'fr_oxime', 'fr_para_hydroxylation', 'fr_phenol',\n",
    "'fr_phenol_noOrthoHbond', 'fr_phos_acid', 'fr_phos_ester', 'fr_piperdine', 'fr_piperzine', 'fr_priamide', 'fr_prisulfonamd',\n",
    "'fr_pyridine', 'fr_quatN', 'fr_sulfide', 'fr_sulfonamd', 'fr_sulfone', 'fr_term_acetylene', 'fr_tetrazole', 'fr_thiazole',\n",
    "'fr_thiocyan', 'fr_thiophene', 'fr_unbrch_alkane', 'fr_urea']"
   ]
  },
  {
   "cell_type": "code",
   "execution_count": 26,
   "id": "f930dad6",
   "metadata": {},
   "outputs": [],
   "source": [
    "# specify dataset details\n",
    "folder = \"opioids\"\n",
    "# benchmark for benchmark; reg for opioids\n",
    "task_setting = \"reg\"  \n",
    "\n",
    "#opioids: 'MDR1', 'CYP2D6', 'CYP3A4', 'MOR', 'DOR', 'KOR' \n",
    "#benchmark: 'BACE', 'BBBP', 'HIV', 'ESOL', 'FreeSolv', 'Lipop'\n",
    "mol_props =  ['MDR1', 'CYP2D6', 'CYP3A4', 'MOR', 'DOR', 'KOR' ]"
   ]
  },
  {
   "cell_type": "code",
   "execution_count": 27,
   "id": "20d5f64e",
   "metadata": {},
   "outputs": [
    {
     "name": "stdout",
     "output_type": "stream",
     "text": [
      "mol_prop MDR1\n",
      "mol_prop CYP2D6\n",
      "mol_prop CYP3A4\n",
      "mol_prop MOR\n",
      "mol_prop DOR\n",
      "mol_prop KOR\n"
     ]
    }
   ],
   "source": [
    "for mol_prop in mol_props:\n",
    "    print(\"mol_prop\", mol_prop)\n",
    "    \n",
    "    #read the csv file\n",
    "    df = pd.read_csv('../data/{folder}/{name}_{task}.csv'.format(folder=folder, name=mol_prop, task=task_setting))\n",
    "\n",
    "    #add scaffolds \n",
    "    df['scaffold'] = df['SMILES'].map(get_scaffold)\n",
    "    \n",
    "    # add fragments\n",
    "    for frag in RDKit_fragments:\n",
    "        fragment_analysis = \"\"\"\n",
    "#define a function for fragments counting    \n",
    "def count_fragments(mol):\n",
    "    return Fragments.{frag}(mol)\n",
    "\n",
    "#count the number of fragments for each molecule\n",
    "df['{frag}'] = df['SMILES'].map(get_mol).map(count_fragments) \n",
    "        \"\"\".format(frag=frag)\n",
    "        #execute the text as code\n",
    "        exec(fragment_analysis)\n",
    "    \n",
    "    # add other structural traits\n",
    "    df['MW'] = df['SMILES'].map(get_mol).map(get_weight)\n",
    "    df['f_sp3C'] = df['SMILES'].map(get_mol).map(get_f_sp3C)\n",
    "    df['n_hetero_atoms'] = df['SMILES'].map(get_mol).map(get_n_hetero_atoms)\n",
    "    df['n_stereo_centers'] = df['SMILES'].map(get_mol).map(get_n_stereo_centers)\n",
    "    df['n_hba'] = df['SMILES'].map(get_mol).map(get_n_hba)\n",
    "    df['n_hbd'] = df['SMILES'].map(get_mol).map(get_n_hbd)\n",
    "    df['n_rota_bonds'] = df['SMILES'].map(get_mol).map(get_n_rota_bonds)\n",
    "    df['n_rings'] = df['SMILES'].map(get_mol).map(get_n_rings)\n",
    "    df['n_alipha_rings'] = df['SMILES'].map(get_mol).map(get_n_alipha_rings)\n",
    "    df['n_aroma_rings'] = df['SMILES'].map(get_mol).map(get_n_aroma_rings)\n",
    "    df['n_hetero_rings'] = df['SMILES'].map(get_mol).map(get_n_hetero_rings)\n",
    "    df['n_spiro_atoms'] = df['SMILES'].map(get_mol).map(get_n_spiro_atoms)\n",
    "\n",
    "    #save the structural traits csv file\n",
    "    df.to_csv('../results/structures/{folder}/{mol_prop}_structural_traits.csv'.format(folder=folder, mol_prop=mol_prop), index=False)"
   ]
  },
  {
   "cell_type": "code",
   "execution_count": null,
   "id": "de3dae8c",
   "metadata": {},
   "outputs": [],
   "source": []
  }
 ],
 "metadata": {
  "kernelspec": {
   "display_name": "Python 3 (ipykernel)",
   "language": "python",
   "name": "python3"
  },
  "language_info": {
   "codemirror_mode": {
    "name": "ipython",
    "version": 3
   },
   "file_extension": ".py",
   "mimetype": "text/x-python",
   "name": "python",
   "nbconvert_exporter": "python",
   "pygments_lexer": "ipython3",
   "version": "3.9.12"
  }
 },
 "nbformat": 4,
 "nbformat_minor": 5
}
