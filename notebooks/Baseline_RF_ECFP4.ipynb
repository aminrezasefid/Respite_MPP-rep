{
 "cells": [
  {
   "cell_type": "markdown",
   "id": "1e1ad30a",
   "metadata": {},
   "source": [
    "This notebook is used to run the random forest model on ECFP4."
   ]
  },
  {
   "cell_type": "markdown",
   "id": "nonprofit-cyprus",
   "metadata": {},
   "source": [
    "-  import libraries"
   ]
  },
  {
   "cell_type": "code",
   "execution_count": 1,
   "id": "moved-proof",
   "metadata": {
    "scrolled": true
   },
   "outputs": [],
   "source": [
    "import os\n",
    "import numpy as np\n",
    "import pandas as pd\n",
    "\n",
    "import random\n",
    "\n",
    "from rdkit import Chem\n",
    "\n",
    "from rdkit import DataStructs\n",
    "from rdkit.Chem import AllChem\n",
    "\n",
    "from sklearn.ensemble import RandomForestRegressor\n",
    "from sklearn.ensemble import RandomForestClassifier"
   ]
  },
  {
   "cell_type": "code",
   "execution_count": 2,
   "id": "requested-cooperation",
   "metadata": {},
   "outputs": [],
   "source": [
    "from rdkit import rdBase\n",
    "rdBase.DisableLog('rdApp.error')\n",
    "\n",
    "import warnings\n",
    "warnings.filterwarnings('ignore')"
   ]
  },
  {
   "cell_type": "markdown",
   "id": "russian-allocation",
   "metadata": {},
   "source": [
    "-  define a function to get ECFP features: ECFP4 with radius 2, nBits 2048; <br>"
   ]
  },
  {
   "cell_type": "code",
   "execution_count": 3,
   "id": "demanding-february",
   "metadata": {},
   "outputs": [],
   "source": [
    "radius = 2\n",
    "nbits = 2048"
   ]
  },
  {
   "cell_type": "code",
   "execution_count": 4,
   "id": "detailed-afghanistan",
   "metadata": {},
   "outputs": [],
   "source": [
    "# use fingerprints as features\n",
    "def get_fp(x):\n",
    "    mol = Chem.MolFromSmiles(x)\n",
    "    #get the morgan fingerprint based on default setting\n",
    "    features_vec = AllChem.GetMorganFingerprintAsBitVect(mol, radius=radius, nBits=nbits)\n",
    "    features = np.zeros((1,))\n",
    "    DataStructs.ConvertToNumpyArray(features_vec, features)\n",
    "    return features"
   ]
  },
  {
   "cell_type": "markdown",
   "id": "federal-narrative",
   "metadata": {},
   "source": [
    "-  read data splits and apply RF for prediction"
   ]
  },
  {
   "cell_type": "code",
   "execution_count": 5,
   "id": "going-blackjack",
   "metadata": {},
   "outputs": [],
   "source": [
    "#specify total folds\n",
    "num_folds = 30\n",
    "\n",
    "#specify the dataset split type: scaffold vs random\n",
    "split_types = ['scaffold','random']\n",
    "\n",
    "#benchmark: BACE, BBBP, HIV | ESOL, FreeSolv, Lipop\n",
    "#opioids: benchmark, CYP2D6, CYP3A4 | MOR, DOR, KOR\n",
    "folder = 'benchmark' \n",
    "\n",
    "# specify task setting - benchmark: benchmark; opioids: reg, cutoff6\n",
    "task_setting = \"benchmark\"\n",
    "\n",
    "# specify mol_props based on folder\n",
    "if folder == 'benchmark': \n",
    "    mol_props = ['BACE', 'BBBP', 'HIV', 'ESOL', 'FreeSolv',]\n",
    "elif folder == 'opioids': \n",
    "    mol_props = ['MDR1', 'CYP3A4', 'CYP2D6', 'MOR', 'DOR', 'KOR']\n",
    "\n",
    "# specify dataset types based on task setting\n",
    "if task_setting == 'benchmark':\n",
    "    dataset_types = ['classification', 'classification', 'classification', 'regression', 'regression', 'regression']\n",
    "elif task_setting == 'reg':\n",
    "    dataset_types = ['regression', 'regression', 'regression', 'regression', 'regression', 'regression']\n",
    "elif task_setting == 'cutoff6':\n",
    "    dataset_types = ['classification', 'classification', 'classification', 'classification', 'classification', 'classification']"
   ]
  },
  {
   "cell_type": "code",
   "execution_count": 6,
   "id": "selective-madison",
   "metadata": {},
   "outputs": [],
   "source": [
    "for split_type in split_types:\n",
    "    print(split_type)\n",
    "    for mol_prop in mol_props:\n",
    "        print(mol_prop)\n",
    "        # get dataset_type\n",
    "        dataset_type = dataset_types[mol_props.index(mol_prop)]\n",
    "        training_time_list = [0]*num_folds\n",
    "        for fold in range(num_folds):\n",
    "            print(fold)\n",
    "            train_df = pd.read_csv('../data/{folder}/{split_type}_split/{task}/{name}_{split_type}_train_v{i}.csv'.format(task=task_setting, folder=folder, split_type=split_type, name=mol_prop, i=fold))\n",
    "            valid_df = pd.read_csv('../data/{folder}/{split_type}_split/{task}/{name}_{split_type}_valid_v{i}.csv'.format(task=task_setting, folder=folder, split_type=split_type, name=mol_prop, i=fold))\n",
    "            test_df = pd.read_csv('../data/{folder}/{split_type}_split/{task}/{name}_{split_type}_test_v{i}.csv'.format(task=task_setting, folder=folder, split_type=split_type, name=mol_prop, i=fold))\n",
    "\n",
    "            # convert to np arrays\n",
    "            X_train, Y_train = np.array(list(train_df['SMILES'])), np.array(list(train_df['label']))\n",
    "            X_valid, Y_valid = np.array(list(valid_df['SMILES'])), np.array(list(valid_df['label']))\n",
    "            X_test, Y_test = np.array(list(test_df['SMILES'])), np.array(list(test_df['label']))\n",
    "\n",
    "            # according to Yang et al 2019: radius 2 bit size 2048 random forest trees 500\n",
    "            # get the ECFP4 fingerprints\n",
    "            X_train_fp = [get_fp(x) for x in X_train]\n",
    "            X_train_fp = np.stack(X_train_fp)\n",
    "            X_valid_fp = [get_fp(x) for x in X_valid]\n",
    "            X_valid_fp = np.stack(X_valid_fp)\n",
    "            X_test_fp = [get_fp(x) for x in X_test]\n",
    "            X_test_fp = np.stack(X_test_fp)\n",
    "\n",
    "            if dataset_type == 'regression':\n",
    "                # make a RF regressor \n",
    "                clf = RandomForestRegressor(n_estimators=500, random_state=42) \n",
    "\n",
    "                # training\n",
    "                clf.fit(X_train_fp, Y_train)\n",
    "\n",
    "                # get predictions on the test set\n",
    "                Y_pred = clf.predict(X_test_fp)\n",
    "\n",
    "            else:\n",
    "                # make a RF classifier\n",
    "                clf = RandomForestClassifier(n_estimators=500, random_state=42)\n",
    "\n",
    "                # training\n",
    "                clf.fit(X_train_fp, Y_train)\n",
    "\n",
    "                # get predictions on the test set\n",
    "                Y_pred = clf.predict(X_test_fp)\n",
    "\n",
    "                # get the class probability \n",
    "                Y_scores = clf.predict_proba(X_test_fp)[:, 1]\n",
    "\n",
    "\n",
    "            #save the test_result file\n",
    "            if dataset_type == 'regression':\n",
    "                #assemble the test_result_df by collecting prediction results for each molecule\n",
    "                test_result_df = pd.DataFrame({'preds': Y_pred, 'labels': Y_test, 'SMILES': X_test}, columns=['preds', 'labels', 'SMILES'])\n",
    "            else:\n",
    "                #assemble the test_result_df by collecting prediction probability for each molecule\n",
    "                test_result_df = pd.DataFrame({'preds': Y_scores, 'labels': Y_test, 'SMILES': X_test}, columns=['preds', 'labels', 'SMILES'])\n",
    "            #make a directory \n",
    "            try:\n",
    "                os.makedirs('../results/raw_predictions/RF/{task}/{mol_prop}/{split_type}'\\\n",
    "                         .format(mol_prop=mol_prop, radius=radius, nbits=nbits, split_type=split_type, task=task_setting))\n",
    "            except FileExistsError: \n",
    "                print(\"Directory already made!\")\n",
    "                \n",
    "            #add other experiment settings \n",
    "            test_result_df['mol_prop'] = mol_prop\n",
    "            test_result_df['model_name'] = 'RF'\n",
    "            #convert the split_type text from scaffold to scaffold_balanced for later processing convenience\n",
    "            if split_type == 'scaffold':\n",
    "                test_result_df['split_type'] = 'scaffold_balanced'\n",
    "            elif split_type == 'random':\n",
    "                test_result_df['split_type'] = 'random'\n",
    "            test_result_df['fold'] = fold\n",
    "            \n",
    "            #save to csv file\n",
    "            test_result_df.to_csv('../results/raw_predictions/RF/{task}/{mol_prop}/{split_type}/r{radius}_b{nbits}_test_result_fold{fold}.csv'\\\n",
    "                                  .format(mol_prop=mol_prop, fold=fold, radius=radius, nbits=nbits, split_type=split_type, task=task_setting), index=False)\n",
    "\n",
    "    "
   ]
  },
  {
   "cell_type": "code",
   "execution_count": null,
   "id": "ded1ac9c",
   "metadata": {},
   "outputs": [],
   "source": []
  }
 ],
 "metadata": {
  "kernelspec": {
   "display_name": "Python 3 (ipykernel)",
   "language": "python",
   "name": "python3"
  },
  "language_info": {
   "codemirror_mode": {
    "name": "ipython",
    "version": 3
   },
   "file_extension": ".py",
   "mimetype": "text/x-python",
   "name": "python",
   "nbconvert_exporter": "python",
   "pygments_lexer": "ipython3",
   "version": "3.9.12"
  }
 },
 "nbformat": 4,
 "nbformat_minor": 5
}
