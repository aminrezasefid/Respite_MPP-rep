{
 "cells": [
  {
   "cell_type": "markdown",
   "id": "1e1ad30a",
   "metadata": {},
   "source": [
    "This notebook is used to run the random forest model on ECFP4."
   ]
  },
  {
   "cell_type": "markdown",
   "id": "nonprofit-cyprus",
   "metadata": {},
   "source": [
    "-  import libraries"
   ]
  },
  {
   "cell_type": "code",
   "execution_count": 1,
   "id": "moved-proof",
   "metadata": {
    "scrolled": true
   },
   "outputs": [],
   "source": [
    "import os\n",
    "import numpy as np\n",
    "import pandas as pd\n",
    "\n",
    "import random\n",
    "\n",
    "from rdkit import Chem\n",
    "\n",
    "from rdkit import DataStructs\n",
    "from rdkit.Chem import AllChem\n",
    "\n",
    "from sklearn.ensemble import RandomForestRegressor\n",
    "from sklearn.ensemble import RandomForestClassifier"
   ]
  },
  {
   "cell_type": "code",
   "execution_count": 2,
   "id": "requested-cooperation",
   "metadata": {},
   "outputs": [],
   "source": [
    "from rdkit import rdBase\n",
    "rdBase.DisableLog('rdApp.error')\n",
    "\n",
    "import warnings\n",
    "warnings.filterwarnings('ignore')"
   ]
  },
  {
   "cell_type": "markdown",
   "id": "russian-allocation",
   "metadata": {},
   "source": [
    "-  define a function to get ECFP features: ECFP4 with radius 2, nBits 2048; <br>"
   ]
  },
  {
   "cell_type": "code",
   "execution_count": 3,
   "id": "demanding-february",
   "metadata": {},
   "outputs": [],
   "source": [
    "radius = 2\n",
    "nbits = 2048"
   ]
  },
  {
   "cell_type": "code",
   "execution_count": 4,
   "id": "detailed-afghanistan",
   "metadata": {},
   "outputs": [],
   "source": [
    "# use fingerprints as features\n",
    "def get_fp(x):\n",
    "    mol = Chem.MolFromSmiles(x)\n",
    "    #get the morgan fingerprint based on default setting\n",
    "    features_vec = AllChem.GetMorganFingerprintAsBitVect(mol, radius=radius, nBits=nbits)\n",
    "    features = np.zeros((1,))\n",
    "    DataStructs.ConvertToNumpyArray(features_vec, features)\n",
    "    return features"
   ]
  },
  {
   "cell_type": "markdown",
   "id": "federal-narrative",
   "metadata": {},
   "source": [
    "-  read data splits and apply RF for prediction"
   ]
  },
  {
   "cell_type": "code",
   "execution_count": 9,
   "id": "going-blackjack",
   "metadata": {},
   "outputs": [],
   "source": [
    "#specify total folds\n",
    "num_folds = 30\n",
    "\n",
    "#specify the dataset split type: scaffold vs random\n",
    "split_types = ['scaffold','random']\n",
    "\n",
    "#benchmark: BACE, BBBP, HIV | ESOL, FreeSolv, Lipop\n",
    "#opioids: benchmark, CYP2D6, CYP3A4 | MOR, DOR, KOR\n",
    "folder = 'benchmark' \n",
    "\n",
    "# specify task setting - benchmark: benchmark; opioids: reg, cutoff6\n",
    "task_setting = \"benchmark\"\n",
    "\n",
    "# specify mol_props based on folder\n",
    "if folder == 'benchmark': \n",
    "    mol_props = ['bace', 'bbbp', 'esol', 'freesolv','lipo','qm7']\n",
    "    mol_tasks = [\"Class\",'p_np','measured log solubility in mols per litre','expt','exp','u0_atom']\n",
    "elif folder == 'opioids': \n",
    "    mol_props = ['MDR1', 'CYP3A4', 'CYP2D6', 'MOR', 'DOR', 'KOR']\n",
    "\n",
    "# specify dataset types based on task setting\n",
    "if task_setting == 'benchmark':\n",
    "    dataset_types = ['classification', 'classification','regression', 'regression', 'regression','regression']\n",
    "elif task_setting == 'reg':\n",
    "    dataset_types = ['regression', 'regression', 'regression', 'regression', 'regression', 'regression']\n",
    "elif task_setting == 'cutoff6':\n",
    "    dataset_types = ['classification', 'classification', 'classification', 'classification', 'classification', 'classification']"
   ]
  },
  {
   "cell_type": "code",
   "execution_count": 11,
   "id": "selective-madison",
   "metadata": {},
   "outputs": [
    {
     "name": "stdout",
     "output_type": "stream",
     "text": [
      "bace\n",
      "bbbp\n",
      "esol\n",
      "freesolv\n",
      "lipo\n"
     ]
    }
   ],
   "source": [
    "for mol_prop in mol_props:\n",
    "    print(mol_prop)\n",
    "    # get dataset_type\n",
    "    dataset_type = dataset_types[mol_props.index(mol_prop)]\n",
    "    target=mol_tasks[mol_props.index(mol_prop)]\n",
    "    train_df = pd.read_csv(f\"../data/{mol_prop}-gem-train.csv\")\n",
    "    valid_df = pd.read_csv(f\"../data/{mol_prop}-gem-val.csv\")\n",
    "    test_df = pd.read_csv(f\"../data/{mol_prop}-gem-test.csv\")\n",
    "\n",
    "    # convert to np arrays\n",
    "    X_train, Y_train = np.array(list(train_df['smiles'])), np.array(list(train_df[target]))\n",
    "    X_valid, Y_valid = np.array(list(valid_df['smiles'])), np.array(list(valid_df[target]))\n",
    "    X_test, Y_test = np.array(list(test_df['smiles'])), np.array(list(test_df[target]))\n",
    "\n",
    "    # according to Yang et al 2019: radius 2 bit size 2048 random forest trees 500\n",
    "    # get the ECFP4 fingerprints\n",
    "    X_train_fp = [get_fp(x) for x in X_train]\n",
    "    X_train_fp = np.stack(X_train_fp)\n",
    "    X_valid_fp = [get_fp(x) for x in X_valid]\n",
    "    X_valid_fp = np.stack(X_valid_fp)\n",
    "    X_test_fp = [get_fp(x) for x in X_test]\n",
    "    X_test_fp = np.stack(X_test_fp)\n",
    "\n",
    "    if dataset_type == 'regression':\n",
    "        # make a RF regressor \n",
    "        clf = RandomForestRegressor(n_estimators=500, random_state=42) \n",
    "\n",
    "        # training\n",
    "        clf.fit(X_train_fp, Y_train)\n",
    "\n",
    "        # get predictions on the test set\n",
    "        Y_pred = clf.predict(X_test_fp)\n",
    "\n",
    "    else:\n",
    "        # make a RF classifier\n",
    "        clf = RandomForestClassifier(n_estimators=500, random_state=42)\n",
    "\n",
    "        # training\n",
    "        clf.fit(X_train_fp, Y_train)\n",
    "\n",
    "        # get predictions on the test set\n",
    "        Y_pred = clf.predict(X_test_fp)\n",
    "\n",
    "        # get the class probability \n",
    "        Y_scores = clf.predict_proba(X_test_fp)[:, 1]\n",
    "\n",
    "\n",
    "    #save the test_result file\n",
    "    if dataset_type == 'regression':\n",
    "        #assemble the test_result_df by collecting prediction results for each molecule\n",
    "        test_result_df = pd.DataFrame({'preds': Y_pred, 'labels': Y_test, 'SMILES': X_test}, columns=['preds', 'labels', 'SMILES'])\n",
    "    else:\n",
    "        #assemble the test_result_df by collecting prediction probability for each molecule\n",
    "        test_result_df = pd.DataFrame({'preds': Y_scores, 'labels': Y_test, 'SMILES': X_test}, columns=['preds', 'labels', 'SMILES'])\n",
    "    #make a directory \n",
    "    \n",
    "    #save to csv file\n",
    "    test_result_df.to_csv(f'../results/comp/{mol_prop}-test-result.csv', index=False)\n",
    "\n",
    "    "
   ]
  },
  {
   "cell_type": "code",
   "execution_count": null,
   "id": "ded1ac9c",
   "metadata": {},
   "outputs": [],
   "source": []
  }
 ],
 "metadata": {
  "kernelspec": {
   "display_name": "Python 3 (ipykernel)",
   "language": "python",
   "name": "python3"
  },
  "language_info": {
   "codemirror_mode": {
    "name": "ipython",
    "version": 3
   },
   "file_extension": ".py",
   "mimetype": "text/x-python",
   "name": "python",
   "nbconvert_exporter": "python",
   "pygments_lexer": "ipython3",
   "version": "3.9.10"
  }
 },
 "nbformat": 4,
 "nbformat_minor": 5
}
